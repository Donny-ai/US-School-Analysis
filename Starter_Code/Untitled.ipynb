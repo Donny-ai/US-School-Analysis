{
 "cells": [
  {
   "cell_type": "code",
   "execution_count": null,
   "id": "3f11722d-9083-4454-a0fb-3d3b513cf02d",
   "metadata": {},
   "outputs": [
    {
     "name": "stderr",
     "output_type": "stream",
     "text": [
      "Exception in Tkinter callback\n",
      "Traceback (most recent call last):\n",
      "  File \"C:\\Users\\Dan\\anaconda3\\lib\\tkinter\\__init__.py\", line 1919, in __call__\n",
      "    if self.subst:\n",
      "KeyboardInterrupt\n"
     ]
    }
   ],
   "source": [
    "import tkinter as tk\n",
    "import time\n",
    "import winsound\n",
    "\n",
    "RECTANGLE_HEIGHT = 30\n",
    "RECTANGLE_WIDTH = int(3.5 * RECTANGLE_HEIGHT)  # Increase width by 350%\n",
    "MOVEMENT_RANGE = 1.5 * RECTANGLE_WIDTH  # Decrease horizontal travel range by 50%\n",
    "SPEED_FACTOR = 0.5  # Decrease speed by 50%\n",
    "\n",
    "def update_clock():\n",
    "    current_time = time.strftime(\"%I:%M %p\")\n",
    "    clock_label.config(text=current_time)\n",
    "    move_clock()\n",
    "\n",
    "    # Check if the current time is a multiple of 10 minutes\n",
    "    if int(time.strftime(\"%M\")) % 10 == 0 and int(time.strftime(\"%S\")) == 0:\n",
    "        trigger_alert()\n",
    "\n",
    "    root.after(1000, update_clock)\n",
    "\n",
    "horizontal_movement_direction = 1\n",
    "horizontal_position = 0\n",
    "vertical_offset = int(RECTANGLE_HEIGHT * 8)  # Lower the position by 200% of the height\n",
    "\n",
    "def move_clock():\n",
    "    global horizontal_position, horizontal_movement_direction\n",
    "\n",
    "    center_x = root.winfo_screenwidth() // 2\n",
    "    center_y = int(root.winfo_screenheight() * 0.80) + vertical_offset  # Lower the position by 200%\n",
    "    y = center_y - RECTANGLE_HEIGHT // 2\n",
    "\n",
    "    horizontal_position += 5 * horizontal_movement_direction * SPEED_FACTOR\n",
    "    if abs(horizontal_position) > MOVEMENT_RANGE:\n",
    "        horizontal_movement_direction *= -1\n",
    "\n",
    "    x = center_x - RECTANGLE_WIDTH // 2 + int(horizontal_position)\n",
    "    root.geometry(f\"{RECTANGLE_WIDTH}x{RECTANGLE_HEIGHT}+{x}+{y}\")\n",
    "\n",
    "def trigger_alert():\n",
    "    canvas.itemconfig(rectangle_id, fill=\"white\")  # Change the rectangle color to white\n",
    "\n",
    "    # After 3 seconds, change the color back to the original color\n",
    "    root.after(3000, lambda: canvas.itemconfig(rectangle_id, fill=\"#b35900\"))\n",
    "\n",
    "    winsound.MessageBeep(winsound.MB_ICONEXCLAMATION)  # Play the system \"OK\" sound\n",
    "\n",
    "root = tk.Tk()\n",
    "root.overrideredirect(True)\n",
    "root.wm_attributes(\"-topmost\", True)\n",
    "root.geometry(f\"{RECTANGLE_WIDTH}x{RECTANGLE_HEIGHT}+0+0\")\n",
    "\n",
    "# Create a rectangle using the canvas widget\n",
    "canvas = tk.Canvas(root, bg=\"#b35900\", highlightthickness=0)\n",
    "canvas.pack(fill=tk.BOTH, expand=True)\n",
    "\n",
    "rectangle_id = canvas.create_rectangle(0, 0, RECTANGLE_WIDTH, RECTANGLE_HEIGHT, fill=\"#b35900\", outline=\"#b35900\")\n",
    "\n",
    "clock_label = tk.Label(canvas, text=\"\", font=(\"Helvetica\", 18, \"bold\"), fg=\"black\", bg=\"#b35900\")  # Decrease font size\n",
    "clock_label.pack(expand=True, fill=tk.BOTH)\n",
    "\n",
    "# Delay the clock display to allow repositioning the window\n",
    "root.after(100, update_clock)\n",
    "\n",
    "root.mainloop()\n"
   ]
  },
  {
   "cell_type": "code",
   "execution_count": 1,
   "id": "5ce1ae66-d8fd-4c62-af2a-65bf0fd0b270",
   "metadata": {},
   "outputs": [],
   "source": [
    "import simpleaudio"
   ]
  },
  {
   "cell_type": "code",
   "execution_count": null,
   "id": "733b40da-4365-485e-be77-8661c52f7234",
   "metadata": {},
   "outputs": [],
   "source": [
    "from plyer import notification\n",
    "\n",
    "def play_notification_sound():\n",
    "    notification.notify(\n",
    "        title=\"Notification Sound\",\n",
    "        message=\"This is a notification sound!\",\n",
    "        app_name=\"MyApp\",\n",
    "    )\n",
    "\n",
    "if __name__ == \"__main__\":\n",
    "    play_notification_sound()"
   ]
  },
  {
   "cell_type": "code",
   "execution_count": null,
   "id": "07e56df5-6032-4d76-bc56-c3ba31fc298c",
   "metadata": {},
   "outputs": [],
   "source": []
  }
 ],
 "metadata": {
  "kernelspec": {
   "display_name": "Python 3 (ipykernel)",
   "language": "python",
   "name": "python3"
  },
  "language_info": {
   "codemirror_mode": {
    "name": "ipython",
    "version": 3
   },
   "file_extension": ".py",
   "mimetype": "text/x-python",
   "name": "python",
   "nbconvert_exporter": "python",
   "pygments_lexer": "ipython3",
   "version": "3.10.11"
  }
 },
 "nbformat": 4,
 "nbformat_minor": 5
}
