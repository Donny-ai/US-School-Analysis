{
 "cells": [
  {
   "cell_type": "markdown",
   "id": "29492666-a5bf-416e-8d1b-1cd61539c518",
   "metadata": {},
   "source": [
    "# US School Analysis"
   ]
  },
  {
   "cell_type": "markdown",
   "id": "c64cbaad-1c75-4652-8376-e5e6c803e27d",
   "metadata": {},
   "source": [
    "## Start with imports and reading in your data"
   ]
  },
  {
   "cell_type": "code",
   "execution_count": 1,
   "id": "55db3a45-7d63-4920-b183-cd2aa521a8c0",
   "metadata": {},
   "outputs": [],
   "source": [
    "# Include all your imports here\n",
    "import pandas as pd\n",
    "from pathlib import Path\n",
    "import numpy as np"
   ]
  },
  {
   "cell_type": "code",
   "execution_count": 2,
   "id": "f4867586-65ce-46cd-b110-7ff6761ba4a5",
   "metadata": {},
   "outputs": [
    {
     "data": {
      "text/html": [
       "<div>\n",
       "<style scoped>\n",
       "    .dataframe tbody tr th:only-of-type {\n",
       "        vertical-align: middle;\n",
       "    }\n",
       "\n",
       "    .dataframe tbody tr th {\n",
       "        vertical-align: top;\n",
       "    }\n",
       "\n",
       "    .dataframe thead th {\n",
       "        text-align: right;\n",
       "    }\n",
       "</style>\n",
       "<table border=\"1\" class=\"dataframe\">\n",
       "  <thead>\n",
       "    <tr style=\"text-align: right;\">\n",
       "      <th></th>\n",
       "      <th>NCESSCH</th>\n",
       "      <th>LSTATE</th>\n",
       "      <th>SCHOOL_LEVEL</th>\n",
       "      <th>SCHOOL_TYPE_TEXT</th>\n",
       "      <th>TOTAL</th>\n",
       "      <th>FTE</th>\n",
       "      <th>STUTERATIO</th>\n",
       "      <th>AM</th>\n",
       "      <th>AS</th>\n",
       "      <th>BL</th>\n",
       "      <th>HP</th>\n",
       "      <th>HI</th>\n",
       "      <th>TR</th>\n",
       "      <th>WH</th>\n",
       "    </tr>\n",
       "  </thead>\n",
       "  <tbody>\n",
       "    <tr>\n",
       "      <th>0</th>\n",
       "      <td>10000500870</td>\n",
       "      <td>AL</td>\n",
       "      <td>Middle</td>\n",
       "      <td>Regular school</td>\n",
       "      <td>908.0</td>\n",
       "      <td>42.0</td>\n",
       "      <td>21.62</td>\n",
       "      <td>2.0</td>\n",
       "      <td>4.0</td>\n",
       "      <td>33.0</td>\n",
       "      <td>0.0</td>\n",
       "      <td>469.0</td>\n",
       "      <td>29.0</td>\n",
       "      <td>371.0</td>\n",
       "    </tr>\n",
       "    <tr>\n",
       "      <th>1</th>\n",
       "      <td>10000500871</td>\n",
       "      <td>AL</td>\n",
       "      <td>High</td>\n",
       "      <td>Regular school</td>\n",
       "      <td>1606.0</td>\n",
       "      <td>82.0</td>\n",
       "      <td>19.59</td>\n",
       "      <td>1.0</td>\n",
       "      <td>6.0</td>\n",
       "      <td>70.0</td>\n",
       "      <td>0.0</td>\n",
       "      <td>785.0</td>\n",
       "      <td>38.0</td>\n",
       "      <td>706.0</td>\n",
       "    </tr>\n",
       "    <tr>\n",
       "      <th>2</th>\n",
       "      <td>10000500879</td>\n",
       "      <td>AL</td>\n",
       "      <td>Middle</td>\n",
       "      <td>Regular school</td>\n",
       "      <td>891.0</td>\n",
       "      <td>41.0</td>\n",
       "      <td>21.73</td>\n",
       "      <td>4.0</td>\n",
       "      <td>7.0</td>\n",
       "      <td>24.0</td>\n",
       "      <td>1.0</td>\n",
       "      <td>481.0</td>\n",
       "      <td>29.0</td>\n",
       "      <td>345.0</td>\n",
       "    </tr>\n",
       "    <tr>\n",
       "      <th>3</th>\n",
       "      <td>10000500889</td>\n",
       "      <td>AL</td>\n",
       "      <td>Elementary</td>\n",
       "      <td>Regular school</td>\n",
       "      <td>908.0</td>\n",
       "      <td>49.0</td>\n",
       "      <td>18.53</td>\n",
       "      <td>4.0</td>\n",
       "      <td>4.0</td>\n",
       "      <td>48.0</td>\n",
       "      <td>0.0</td>\n",
       "      <td>497.0</td>\n",
       "      <td>15.0</td>\n",
       "      <td>340.0</td>\n",
       "    </tr>\n",
       "    <tr>\n",
       "      <th>4</th>\n",
       "      <td>10000501616</td>\n",
       "      <td>AL</td>\n",
       "      <td>Elementary</td>\n",
       "      <td>Regular school</td>\n",
       "      <td>556.0</td>\n",
       "      <td>30.0</td>\n",
       "      <td>18.53</td>\n",
       "      <td>4.0</td>\n",
       "      <td>2.0</td>\n",
       "      <td>33.0</td>\n",
       "      <td>0.0</td>\n",
       "      <td>288.0</td>\n",
       "      <td>13.0</td>\n",
       "      <td>216.0</td>\n",
       "    </tr>\n",
       "  </tbody>\n",
       "</table>\n",
       "</div>"
      ],
      "text/plain": [
       "       NCESSCH LSTATE SCHOOL_LEVEL SCHOOL_TYPE_TEXT   TOTAL   FTE  STUTERATIO  \\\n",
       "0  10000500870     AL       Middle   Regular school   908.0  42.0       21.62   \n",
       "1  10000500871     AL         High   Regular school  1606.0  82.0       19.59   \n",
       "2  10000500879     AL       Middle   Regular school   891.0  41.0       21.73   \n",
       "3  10000500889     AL   Elementary   Regular school   908.0  49.0       18.53   \n",
       "4  10000501616     AL   Elementary   Regular school   556.0  30.0       18.53   \n",
       "\n",
       "    AM   AS    BL   HP     HI    TR     WH  \n",
       "0  2.0  4.0  33.0  0.0  469.0  29.0  371.0  \n",
       "1  1.0  6.0  70.0  0.0  785.0  38.0  706.0  \n",
       "2  4.0  7.0  24.0  1.0  481.0  29.0  345.0  \n",
       "3  4.0  4.0  48.0  0.0  497.0  15.0  340.0  \n",
       "4  4.0  2.0  33.0  0.0  288.0  13.0  216.0  "
      ]
     },
     "execution_count": 2,
     "metadata": {},
     "output_type": "execute_result"
    }
   ],
   "source": [
    "# Load the Public school dataset\n",
    "data_path = 'Resources/public_school_data.csv'\n",
    "data = pd.read_csv(data_path)\n",
    "data.head()"
   ]
  },
  {
   "cell_type": "code",
   "execution_count": 3,
   "id": "ab574b7a-d060-4efb-9507-541e1082fa72",
   "metadata": {},
   "outputs": [
    {
     "data": {
      "text/html": [
       "<div>\n",
       "<style scoped>\n",
       "    .dataframe tbody tr th:only-of-type {\n",
       "        vertical-align: middle;\n",
       "    }\n",
       "\n",
       "    .dataframe tbody tr th {\n",
       "        vertical-align: top;\n",
       "    }\n",
       "\n",
       "    .dataframe thead th {\n",
       "        text-align: right;\n",
       "    }\n",
       "</style>\n",
       "<table border=\"1\" class=\"dataframe\">\n",
       "  <thead>\n",
       "    <tr style=\"text-align: right;\">\n",
       "      <th></th>\n",
       "      <th>ID</th>\n",
       "      <th>LATCOD</th>\n",
       "      <th>LONCOD</th>\n",
       "    </tr>\n",
       "  </thead>\n",
       "  <tbody>\n",
       "    <tr>\n",
       "      <th>0</th>\n",
       "      <td>10000500870</td>\n",
       "      <td>34.2602</td>\n",
       "      <td>-86.206200</td>\n",
       "    </tr>\n",
       "    <tr>\n",
       "      <th>1</th>\n",
       "      <td>10000500871</td>\n",
       "      <td>34.2622</td>\n",
       "      <td>-86.204900</td>\n",
       "    </tr>\n",
       "    <tr>\n",
       "      <th>2</th>\n",
       "      <td>10000500879</td>\n",
       "      <td>34.2733</td>\n",
       "      <td>-86.220100</td>\n",
       "    </tr>\n",
       "    <tr>\n",
       "      <th>3</th>\n",
       "      <td>10000500889</td>\n",
       "      <td>34.2527</td>\n",
       "      <td>-86.221806</td>\n",
       "    </tr>\n",
       "    <tr>\n",
       "      <th>4</th>\n",
       "      <td>10000501616</td>\n",
       "      <td>34.2898</td>\n",
       "      <td>-86.193300</td>\n",
       "    </tr>\n",
       "  </tbody>\n",
       "</table>\n",
       "</div>"
      ],
      "text/plain": [
       "            ID   LATCOD     LONCOD\n",
       "0  10000500870  34.2602 -86.206200\n",
       "1  10000500871  34.2622 -86.204900\n",
       "2  10000500879  34.2733 -86.220100\n",
       "3  10000500889  34.2527 -86.221806\n",
       "4  10000501616  34.2898 -86.193300"
      ]
     },
     "execution_count": 3,
     "metadata": {},
     "output_type": "execute_result"
    }
   ],
   "source": [
    "# Load the Public school locations dataset\n",
    "locations_path = 'Resources/public_school_locations.csv'\n",
    "locations = pd.read_csv(locations_path)\n",
    "locations.head()"
   ]
  },
  {
   "cell_type": "code",
   "execution_count": 4,
   "id": "9321098c-24d5-4349-9a0d-834d57dab400",
   "metadata": {},
   "outputs": [
    {
     "data": {
      "text/html": [
       "<div>\n",
       "<style scoped>\n",
       "    .dataframe tbody tr th:only-of-type {\n",
       "        vertical-align: middle;\n",
       "    }\n",
       "\n",
       "    .dataframe tbody tr th {\n",
       "        vertical-align: top;\n",
       "    }\n",
       "\n",
       "    .dataframe thead th {\n",
       "        text-align: right;\n",
       "    }\n",
       "</style>\n",
       "<table border=\"1\" class=\"dataframe\">\n",
       "  <thead>\n",
       "    <tr style=\"text-align: right;\">\n",
       "      <th></th>\n",
       "      <th>Fields</th>\n",
       "      <th>Field Descriptions</th>\n",
       "    </tr>\n",
       "  </thead>\n",
       "  <tbody>\n",
       "    <tr>\n",
       "      <th>0</th>\n",
       "      <td>OBJECTID</td>\n",
       "      <td>OBJECTID</td>\n",
       "    </tr>\n",
       "    <tr>\n",
       "      <th>1</th>\n",
       "      <td>Shape</td>\n",
       "      <td>Shape</td>\n",
       "    </tr>\n",
       "    <tr>\n",
       "      <th>2</th>\n",
       "      <td>NCESSCH</td>\n",
       "      <td>Unique School ID</td>\n",
       "    </tr>\n",
       "    <tr>\n",
       "      <th>3</th>\n",
       "      <td>SURVYEAR</td>\n",
       "      <td>Year corresponding to survey record</td>\n",
       "    </tr>\n",
       "    <tr>\n",
       "      <th>4</th>\n",
       "      <td>STABR</td>\n",
       "      <td>Postal state abbreviation code</td>\n",
       "    </tr>\n",
       "  </tbody>\n",
       "</table>\n",
       "</div>"
      ],
      "text/plain": [
       "     Fields                   Field Descriptions\n",
       "0  OBJECTID                             OBJECTID\n",
       "1     Shape                                Shape\n",
       "2   NCESSCH                     Unique School ID\n",
       "3  SURVYEAR  Year corresponding to survey record\n",
       "4     STABR       Postal state abbreviation code"
      ]
     },
     "execution_count": 4,
     "metadata": {},
     "output_type": "execute_result"
    }
   ],
   "source": [
    "# Load the Public school data dictionary file\n",
    "dicts_path = 'Resources/school_data_dictionary.csv'\n",
    "dictionary = pd.read_csv(dicts_path)\n",
    "dictionary.head()"
   ]
  },
  {
   "cell_type": "markdown",
   "id": "9b5c714d-1c47-4532-b349-f31018c2ee7e",
   "metadata": {},
   "source": [
    "## Data Exploration and Preparation"
   ]
  },
  {
   "cell_type": "code",
   "execution_count": 5,
   "id": "07b2ff0a-a818-4f2e-b115-2c23ebdb7347",
   "metadata": {},
   "outputs": [
    {
     "data": {
      "text/plain": [
       "0     False\n",
       "1     False\n",
       "2      True\n",
       "3     False\n",
       "4     False\n",
       "      ...  \n",
       "73    False\n",
       "74    False\n",
       "75     True\n",
       "76    False\n",
       "77    False\n",
       "Name: Fields, Length: 78, dtype: bool"
      ]
     },
     "execution_count": 5,
     "metadata": {},
     "output_type": "execute_result"
    }
   ],
   "source": [
    "# Use an .isin() function on dictionary to keep only fields that appear in the main public_school_data.csv and identify the unique id column \n",
    "dict2 = dictionary['Fields'].isin(data.columns)\n",
    "dict2"
   ]
  },
  {
   "cell_type": "code",
   "execution_count": 6,
   "id": "d60b3b9f-b222-48a8-9663-6801360c3dcb",
   "metadata": {},
   "outputs": [
    {
     "data": {
      "text/html": [
       "<div>\n",
       "<style scoped>\n",
       "    .dataframe tbody tr th:only-of-type {\n",
       "        vertical-align: middle;\n",
       "    }\n",
       "\n",
       "    .dataframe tbody tr th {\n",
       "        vertical-align: top;\n",
       "    }\n",
       "\n",
       "    .dataframe thead th {\n",
       "        text-align: right;\n",
       "    }\n",
       "</style>\n",
       "<table border=\"1\" class=\"dataframe\">\n",
       "  <thead>\n",
       "    <tr style=\"text-align: right;\">\n",
       "      <th></th>\n",
       "      <th>Fields</th>\n",
       "      <th>Field Descriptions</th>\n",
       "    </tr>\n",
       "  </thead>\n",
       "  <tbody>\n",
       "    <tr>\n",
       "      <th>2</th>\n",
       "      <td>NCESSCH</td>\n",
       "      <td>Unique School ID</td>\n",
       "    </tr>\n",
       "    <tr>\n",
       "      <th>12</th>\n",
       "      <td>LSTATE</td>\n",
       "      <td>Location state</td>\n",
       "    </tr>\n",
       "    <tr>\n",
       "      <th>21</th>\n",
       "      <td>SCHOOL_LEVEL</td>\n",
       "      <td>School level</td>\n",
       "    </tr>\n",
       "    <tr>\n",
       "      <th>25</th>\n",
       "      <td>SCHOOL_TYPE_TEXT</td>\n",
       "      <td>School type (description)</td>\n",
       "    </tr>\n",
       "    <tr>\n",
       "      <th>51</th>\n",
       "      <td>TOTAL</td>\n",
       "      <td>Total students all grades (includes AE)</td>\n",
       "    </tr>\n",
       "    <tr>\n",
       "      <th>53</th>\n",
       "      <td>FTE</td>\n",
       "      <td>Total Teachers</td>\n",
       "    </tr>\n",
       "    <tr>\n",
       "      <th>54</th>\n",
       "      <td>STUTERATIO</td>\n",
       "      <td>Student teacher ratio</td>\n",
       "    </tr>\n",
       "    <tr>\n",
       "      <th>57</th>\n",
       "      <td>AM</td>\n",
       "      <td>All Students - American Indian/Alaska Native</td>\n",
       "    </tr>\n",
       "    <tr>\n",
       "      <th>60</th>\n",
       "      <td>AS</td>\n",
       "      <td>All Students - Asian</td>\n",
       "    </tr>\n",
       "    <tr>\n",
       "      <th>63</th>\n",
       "      <td>BL</td>\n",
       "      <td>All Students - Black or African American</td>\n",
       "    </tr>\n",
       "    <tr>\n",
       "      <th>66</th>\n",
       "      <td>HP</td>\n",
       "      <td>All Students - Native Hawai'ian or Other Pacif...</td>\n",
       "    </tr>\n",
       "    <tr>\n",
       "      <th>69</th>\n",
       "      <td>HI</td>\n",
       "      <td>All Students - Hispanic</td>\n",
       "    </tr>\n",
       "    <tr>\n",
       "      <th>72</th>\n",
       "      <td>TR</td>\n",
       "      <td>All Students - Two or More Races</td>\n",
       "    </tr>\n",
       "    <tr>\n",
       "      <th>75</th>\n",
       "      <td>WH</td>\n",
       "      <td>All Students - White</td>\n",
       "    </tr>\n",
       "  </tbody>\n",
       "</table>\n",
       "</div>"
      ],
      "text/plain": [
       "              Fields                                 Field Descriptions\n",
       "2            NCESSCH                                   Unique School ID\n",
       "12            LSTATE                                     Location state\n",
       "21      SCHOOL_LEVEL                                       School level\n",
       "25  SCHOOL_TYPE_TEXT                          School type (description)\n",
       "51             TOTAL            Total students all grades (includes AE)\n",
       "53               FTE                                     Total Teachers\n",
       "54        STUTERATIO                              Student teacher ratio\n",
       "57                AM       All Students - American Indian/Alaska Native\n",
       "60                AS                               All Students - Asian\n",
       "63                BL           All Students - Black or African American\n",
       "66                HP  All Students - Native Hawai'ian or Other Pacif...\n",
       "69                HI                            All Students - Hispanic\n",
       "72                TR                   All Students - Two or More Races\n",
       "75                WH                               All Students - White"
      ]
     },
     "execution_count": 6,
     "metadata": {},
     "output_type": "execute_result"
    }
   ],
   "source": [
    "dictionary = dictionary[dict2]\n",
    "dictionary"
   ]
  },
  {
   "cell_type": "code",
   "execution_count": 7,
   "id": "88e8adad-acf9-4364-abbd-fc0f58478867",
   "metadata": {},
   "outputs": [
    {
     "data": {
      "text/plain": [
       "<bound method Series.unique of 0          10000500870\n",
       "1          10000500871\n",
       "2          10000500879\n",
       "3          10000500889\n",
       "4          10000501616\n",
       "              ...     \n",
       "100717    780003000024\n",
       "100718    780003000026\n",
       "100719    780003000027\n",
       "100720    780003000033\n",
       "100721    780003000034\n",
       "Name: NCESSCH, Length: 100722, dtype: int64>"
      ]
     },
     "execution_count": 7,
     "metadata": {},
     "output_type": "execute_result"
    }
   ],
   "source": [
    "# Ensure the column you selected is indeed a unique identifier by checking the number of uniqe values and comparing it to the number of rows in the dataframe\n",
    "data['NCESSCH'].unique\n",
    "\n"
   ]
  },
  {
   "cell_type": "code",
   "execution_count": 8,
   "id": "b5895fe0-a0d2-4df1-b5f1-6a8ed3a8a3b0",
   "metadata": {},
   "outputs": [],
   "source": [
    "# Change the names of the unique ID column in both the location data and public school data to match and set them as index\n",
    "data = data.rename(columns = {'NCESSCH':'SCHOOL_ID'})\n",
    "dictionary.at[2, 'Fields'] = 'SCHOOL_ID'\n",
    "data = data.set_index(['SCHOOL_ID'])\n",
    "dictionary = dictionary.set_index(['Fields'])"
   ]
  },
  {
   "cell_type": "code",
   "execution_count": 9,
   "id": "518cefb0-fec0-4c66-9d6f-1ecf6196acfc",
   "metadata": {},
   "outputs": [
    {
     "data": {
      "text/html": [
       "<div>\n",
       "<style scoped>\n",
       "    .dataframe tbody tr th:only-of-type {\n",
       "        vertical-align: middle;\n",
       "    }\n",
       "\n",
       "    .dataframe tbody tr th {\n",
       "        vertical-align: top;\n",
       "    }\n",
       "\n",
       "    .dataframe thead th {\n",
       "        text-align: right;\n",
       "    }\n",
       "</style>\n",
       "<table border=\"1\" class=\"dataframe\">\n",
       "  <thead>\n",
       "    <tr style=\"text-align: right;\">\n",
       "      <th></th>\n",
       "      <th>LSTATE</th>\n",
       "      <th>SCHOOL_LEVEL</th>\n",
       "      <th>SCHOOL_TYPE_TEXT</th>\n",
       "      <th>TOTAL</th>\n",
       "      <th>FTE</th>\n",
       "      <th>STUTERATIO</th>\n",
       "      <th>AM</th>\n",
       "      <th>AS</th>\n",
       "      <th>BL</th>\n",
       "      <th>HP</th>\n",
       "      <th>HI</th>\n",
       "      <th>TR</th>\n",
       "      <th>WH</th>\n",
       "    </tr>\n",
       "    <tr>\n",
       "      <th>SCHOOL_ID</th>\n",
       "      <th></th>\n",
       "      <th></th>\n",
       "      <th></th>\n",
       "      <th></th>\n",
       "      <th></th>\n",
       "      <th></th>\n",
       "      <th></th>\n",
       "      <th></th>\n",
       "      <th></th>\n",
       "      <th></th>\n",
       "      <th></th>\n",
       "      <th></th>\n",
       "      <th></th>\n",
       "    </tr>\n",
       "  </thead>\n",
       "  <tbody>\n",
       "    <tr>\n",
       "      <th>10000500870</th>\n",
       "      <td>AL</td>\n",
       "      <td>Middle</td>\n",
       "      <td>Regular school</td>\n",
       "      <td>908.0</td>\n",
       "      <td>42.0</td>\n",
       "      <td>21.62</td>\n",
       "      <td>2.0</td>\n",
       "      <td>4.0</td>\n",
       "      <td>33.0</td>\n",
       "      <td>0.0</td>\n",
       "      <td>469.0</td>\n",
       "      <td>29.0</td>\n",
       "      <td>371.0</td>\n",
       "    </tr>\n",
       "    <tr>\n",
       "      <th>10000500871</th>\n",
       "      <td>AL</td>\n",
       "      <td>High</td>\n",
       "      <td>Regular school</td>\n",
       "      <td>1606.0</td>\n",
       "      <td>82.0</td>\n",
       "      <td>19.59</td>\n",
       "      <td>1.0</td>\n",
       "      <td>6.0</td>\n",
       "      <td>70.0</td>\n",
       "      <td>0.0</td>\n",
       "      <td>785.0</td>\n",
       "      <td>38.0</td>\n",
       "      <td>706.0</td>\n",
       "    </tr>\n",
       "    <tr>\n",
       "      <th>10000500879</th>\n",
       "      <td>AL</td>\n",
       "      <td>Middle</td>\n",
       "      <td>Regular school</td>\n",
       "      <td>891.0</td>\n",
       "      <td>41.0</td>\n",
       "      <td>21.73</td>\n",
       "      <td>4.0</td>\n",
       "      <td>7.0</td>\n",
       "      <td>24.0</td>\n",
       "      <td>1.0</td>\n",
       "      <td>481.0</td>\n",
       "      <td>29.0</td>\n",
       "      <td>345.0</td>\n",
       "    </tr>\n",
       "    <tr>\n",
       "      <th>10000500889</th>\n",
       "      <td>AL</td>\n",
       "      <td>Elementary</td>\n",
       "      <td>Regular school</td>\n",
       "      <td>908.0</td>\n",
       "      <td>49.0</td>\n",
       "      <td>18.53</td>\n",
       "      <td>4.0</td>\n",
       "      <td>4.0</td>\n",
       "      <td>48.0</td>\n",
       "      <td>0.0</td>\n",
       "      <td>497.0</td>\n",
       "      <td>15.0</td>\n",
       "      <td>340.0</td>\n",
       "    </tr>\n",
       "    <tr>\n",
       "      <th>10000501616</th>\n",
       "      <td>AL</td>\n",
       "      <td>Elementary</td>\n",
       "      <td>Regular school</td>\n",
       "      <td>556.0</td>\n",
       "      <td>30.0</td>\n",
       "      <td>18.53</td>\n",
       "      <td>4.0</td>\n",
       "      <td>2.0</td>\n",
       "      <td>33.0</td>\n",
       "      <td>0.0</td>\n",
       "      <td>288.0</td>\n",
       "      <td>13.0</td>\n",
       "      <td>216.0</td>\n",
       "    </tr>\n",
       "  </tbody>\n",
       "</table>\n",
       "</div>"
      ],
      "text/plain": [
       "            LSTATE SCHOOL_LEVEL SCHOOL_TYPE_TEXT   TOTAL   FTE  STUTERATIO  \\\n",
       "SCHOOL_ID                                                                    \n",
       "10000500870     AL       Middle   Regular school   908.0  42.0       21.62   \n",
       "10000500871     AL         High   Regular school  1606.0  82.0       19.59   \n",
       "10000500879     AL       Middle   Regular school   891.0  41.0       21.73   \n",
       "10000500889     AL   Elementary   Regular school   908.0  49.0       18.53   \n",
       "10000501616     AL   Elementary   Regular school   556.0  30.0       18.53   \n",
       "\n",
       "              AM   AS    BL   HP     HI    TR     WH  \n",
       "SCHOOL_ID                                             \n",
       "10000500870  2.0  4.0  33.0  0.0  469.0  29.0  371.0  \n",
       "10000500871  1.0  6.0  70.0  0.0  785.0  38.0  706.0  \n",
       "10000500879  4.0  7.0  24.0  1.0  481.0  29.0  345.0  \n",
       "10000500889  4.0  4.0  48.0  0.0  497.0  15.0  340.0  \n",
       "10000501616  4.0  2.0  33.0  0.0  288.0  13.0  216.0  "
      ]
     },
     "execution_count": 9,
     "metadata": {},
     "output_type": "execute_result"
    }
   ],
   "source": [
    "# Check your work\n",
    "data.head()"
   ]
  },
  {
   "cell_type": "code",
   "execution_count": 10,
   "id": "b8fd0a6d-1c51-4db7-b7b9-8cb2e2c0b879",
   "metadata": {},
   "outputs": [
    {
     "data": {
      "text/html": [
       "<div>\n",
       "<style scoped>\n",
       "    .dataframe tbody tr th:only-of-type {\n",
       "        vertical-align: middle;\n",
       "    }\n",
       "\n",
       "    .dataframe tbody tr th {\n",
       "        vertical-align: top;\n",
       "    }\n",
       "\n",
       "    .dataframe thead th {\n",
       "        text-align: right;\n",
       "    }\n",
       "</style>\n",
       "<table border=\"1\" class=\"dataframe\">\n",
       "  <thead>\n",
       "    <tr style=\"text-align: right;\">\n",
       "      <th></th>\n",
       "      <th>Field Descriptions</th>\n",
       "    </tr>\n",
       "    <tr>\n",
       "      <th>Fields</th>\n",
       "      <th></th>\n",
       "    </tr>\n",
       "  </thead>\n",
       "  <tbody>\n",
       "    <tr>\n",
       "      <th>SCHOOL_ID</th>\n",
       "      <td>Unique School ID</td>\n",
       "    </tr>\n",
       "    <tr>\n",
       "      <th>LSTATE</th>\n",
       "      <td>Location state</td>\n",
       "    </tr>\n",
       "    <tr>\n",
       "      <th>SCHOOL_LEVEL</th>\n",
       "      <td>School level</td>\n",
       "    </tr>\n",
       "    <tr>\n",
       "      <th>SCHOOL_TYPE_TEXT</th>\n",
       "      <td>School type (description)</td>\n",
       "    </tr>\n",
       "    <tr>\n",
       "      <th>TOTAL</th>\n",
       "      <td>Total students all grades (includes AE)</td>\n",
       "    </tr>\n",
       "  </tbody>\n",
       "</table>\n",
       "</div>"
      ],
      "text/plain": [
       "                                       Field Descriptions\n",
       "Fields                                                   \n",
       "SCHOOL_ID                                Unique School ID\n",
       "LSTATE                                     Location state\n",
       "SCHOOL_LEVEL                                 School level\n",
       "SCHOOL_TYPE_TEXT                School type (description)\n",
       "TOTAL             Total students all grades (includes AE)"
      ]
     },
     "execution_count": 10,
     "metadata": {},
     "output_type": "execute_result"
    }
   ],
   "source": [
    "# Check your work\n",
    "dictionary.head()"
   ]
  },
  {
   "cell_type": "code",
   "execution_count": 11,
   "id": "2f536b02-4bf5-47dd-a82f-bf0ac073d461",
   "metadata": {},
   "outputs": [],
   "source": [
    "locations = locations.rename(columns={'ID' : 'SCHOOL_ID'})\n",
    "locations = locations.set_index(['SCHOOL_ID'])"
   ]
  },
  {
   "cell_type": "code",
   "execution_count": 20,
   "id": "fe362bf6-9829-4c19-929b-a255ad8a004f",
   "metadata": {},
   "outputs": [
    {
     "data": {
      "text/html": [
       "<div>\n",
       "<style scoped>\n",
       "    .dataframe tbody tr th:only-of-type {\n",
       "        vertical-align: middle;\n",
       "    }\n",
       "\n",
       "    .dataframe tbody tr th {\n",
       "        vertical-align: top;\n",
       "    }\n",
       "\n",
       "    .dataframe thead th {\n",
       "        text-align: right;\n",
       "    }\n",
       "</style>\n",
       "<table border=\"1\" class=\"dataframe\">\n",
       "  <thead>\n",
       "    <tr style=\"text-align: right;\">\n",
       "      <th></th>\n",
       "      <th>LATCOD</th>\n",
       "      <th>LONCOD</th>\n",
       "      <th>LSTATE</th>\n",
       "      <th>SCHOOL_LEVEL</th>\n",
       "      <th>SCHOOL_TYPE_TEXT</th>\n",
       "      <th>TOTAL</th>\n",
       "      <th>FTE</th>\n",
       "      <th>STUTERATIO</th>\n",
       "      <th>AM</th>\n",
       "      <th>AS</th>\n",
       "      <th>BL</th>\n",
       "      <th>HP</th>\n",
       "      <th>HI</th>\n",
       "      <th>TR</th>\n",
       "      <th>WH</th>\n",
       "    </tr>\n",
       "    <tr>\n",
       "      <th>SCHOOL_ID</th>\n",
       "      <th></th>\n",
       "      <th></th>\n",
       "      <th></th>\n",
       "      <th></th>\n",
       "      <th></th>\n",
       "      <th></th>\n",
       "      <th></th>\n",
       "      <th></th>\n",
       "      <th></th>\n",
       "      <th></th>\n",
       "      <th></th>\n",
       "      <th></th>\n",
       "      <th></th>\n",
       "      <th></th>\n",
       "      <th></th>\n",
       "    </tr>\n",
       "  </thead>\n",
       "  <tbody>\n",
       "    <tr>\n",
       "      <th>10000500870</th>\n",
       "      <td>34.2602</td>\n",
       "      <td>-86.206200</td>\n",
       "      <td>AL</td>\n",
       "      <td>Middle</td>\n",
       "      <td>Regular school</td>\n",
       "      <td>908.0</td>\n",
       "      <td>42.0</td>\n",
       "      <td>21.62</td>\n",
       "      <td>2.0</td>\n",
       "      <td>4.0</td>\n",
       "      <td>33.0</td>\n",
       "      <td>0.0</td>\n",
       "      <td>469.0</td>\n",
       "      <td>29.0</td>\n",
       "      <td>371.0</td>\n",
       "    </tr>\n",
       "    <tr>\n",
       "      <th>10000500871</th>\n",
       "      <td>34.2622</td>\n",
       "      <td>-86.204900</td>\n",
       "      <td>AL</td>\n",
       "      <td>High</td>\n",
       "      <td>Regular school</td>\n",
       "      <td>1606.0</td>\n",
       "      <td>82.0</td>\n",
       "      <td>19.59</td>\n",
       "      <td>1.0</td>\n",
       "      <td>6.0</td>\n",
       "      <td>70.0</td>\n",
       "      <td>0.0</td>\n",
       "      <td>785.0</td>\n",
       "      <td>38.0</td>\n",
       "      <td>706.0</td>\n",
       "    </tr>\n",
       "    <tr>\n",
       "      <th>10000500879</th>\n",
       "      <td>34.2733</td>\n",
       "      <td>-86.220100</td>\n",
       "      <td>AL</td>\n",
       "      <td>Middle</td>\n",
       "      <td>Regular school</td>\n",
       "      <td>891.0</td>\n",
       "      <td>41.0</td>\n",
       "      <td>21.73</td>\n",
       "      <td>4.0</td>\n",
       "      <td>7.0</td>\n",
       "      <td>24.0</td>\n",
       "      <td>1.0</td>\n",
       "      <td>481.0</td>\n",
       "      <td>29.0</td>\n",
       "      <td>345.0</td>\n",
       "    </tr>\n",
       "    <tr>\n",
       "      <th>10000500889</th>\n",
       "      <td>34.2527</td>\n",
       "      <td>-86.221806</td>\n",
       "      <td>AL</td>\n",
       "      <td>Elementary</td>\n",
       "      <td>Regular school</td>\n",
       "      <td>908.0</td>\n",
       "      <td>49.0</td>\n",
       "      <td>18.53</td>\n",
       "      <td>4.0</td>\n",
       "      <td>4.0</td>\n",
       "      <td>48.0</td>\n",
       "      <td>0.0</td>\n",
       "      <td>497.0</td>\n",
       "      <td>15.0</td>\n",
       "      <td>340.0</td>\n",
       "    </tr>\n",
       "    <tr>\n",
       "      <th>10000501616</th>\n",
       "      <td>34.2898</td>\n",
       "      <td>-86.193300</td>\n",
       "      <td>AL</td>\n",
       "      <td>Elementary</td>\n",
       "      <td>Regular school</td>\n",
       "      <td>556.0</td>\n",
       "      <td>30.0</td>\n",
       "      <td>18.53</td>\n",
       "      <td>4.0</td>\n",
       "      <td>2.0</td>\n",
       "      <td>33.0</td>\n",
       "      <td>0.0</td>\n",
       "      <td>288.0</td>\n",
       "      <td>13.0</td>\n",
       "      <td>216.0</td>\n",
       "    </tr>\n",
       "  </tbody>\n",
       "</table>\n",
       "</div>"
      ],
      "text/plain": [
       "              LATCOD     LONCOD LSTATE SCHOOL_LEVEL SCHOOL_TYPE_TEXT   TOTAL  \\\n",
       "SCHOOL_ID                                                                      \n",
       "10000500870  34.2602 -86.206200     AL       Middle   Regular school   908.0   \n",
       "10000500871  34.2622 -86.204900     AL         High   Regular school  1606.0   \n",
       "10000500879  34.2733 -86.220100     AL       Middle   Regular school   891.0   \n",
       "10000500889  34.2527 -86.221806     AL   Elementary   Regular school   908.0   \n",
       "10000501616  34.2898 -86.193300     AL   Elementary   Regular school   556.0   \n",
       "\n",
       "              FTE  STUTERATIO   AM   AS    BL   HP     HI    TR     WH  \n",
       "SCHOOL_ID                                                               \n",
       "10000500870  42.0       21.62  2.0  4.0  33.0  0.0  469.0  29.0  371.0  \n",
       "10000500871  82.0       19.59  1.0  6.0  70.0  0.0  785.0  38.0  706.0  \n",
       "10000500879  41.0       21.73  4.0  7.0  24.0  1.0  481.0  29.0  345.0  \n",
       "10000500889  49.0       18.53  4.0  4.0  48.0  0.0  497.0  15.0  340.0  \n",
       "10000501616  30.0       18.53  4.0  2.0  33.0  0.0  288.0  13.0  216.0  "
      ]
     },
     "execution_count": 20,
     "metadata": {},
     "output_type": "execute_result"
    }
   ],
   "source": [
    "# Join the location and data dataframes together\n",
    "locdata = pd.concat([locations, data], axis=1)\n",
    "# Using merge:\n",
    "# locdata = pd.merge(locations, data, on='SCHOOL_ID', how='left')\n",
    "locdata.head()"
   ]
  },
  {
   "cell_type": "code",
   "execution_count": 21,
   "id": "136c325e-f07b-41cd-b5e9-9573675d5485",
   "metadata": {},
   "outputs": [
    {
     "data": {
      "text/plain": [
       "Regular school                  91595\n",
       "Alternative Education School     5588\n",
       "Special education school         1946\n",
       "Career and Technical School      1593\n",
       "Name: SCHOOL_TYPE_TEXT, dtype: int64"
      ]
     },
     "execution_count": 21,
     "metadata": {},
     "output_type": "execute_result"
    }
   ],
   "source": [
    "# Get the value counts for the school type column\n",
    "locdata['SCHOOL_TYPE_TEXT'].value_counts()"
   ]
  },
  {
   "cell_type": "code",
   "execution_count": 22,
   "id": "99f87e68-5766-4965-b040-aabaa79ed96b",
   "metadata": {},
   "outputs": [
    {
     "data": {
      "text/plain": [
       "LATCOD              91595\n",
       "LONCOD              91595\n",
       "LSTATE              91595\n",
       "SCHOOL_LEVEL        91595\n",
       "SCHOOL_TYPE_TEXT    91595\n",
       "TOTAL               90727\n",
       "FTE                 84942\n",
       "STUTERATIO          91063\n",
       "AM                  69437\n",
       "AS                  79701\n",
       "BL                  84536\n",
       "HP                  59190\n",
       "HI                  89338\n",
       "TR                  86623\n",
       "WH                  89227\n",
       "dtype: int64"
      ]
     },
     "execution_count": 22,
     "metadata": {},
     "output_type": "execute_result"
    }
   ],
   "source": [
    "# Create a subset of the dataframe that only includes regular schools. Ensure it was successful by comparing rows in the subset to the value counts above\n",
    "regular_schools = locdata[locdata['SCHOOL_TYPE_TEXT'] == 'Regular school']\n",
    "regular_schools.count()"
   ]
  },
  {
   "cell_type": "markdown",
   "id": "00a498d3-e82a-479a-b3f3-ca3d4a46e787",
   "metadata": {},
   "source": [
    "## Data Cleaning and dealing with nulls"
   ]
  },
  {
   "cell_type": "code",
   "execution_count": null,
   "id": "eb046205-7c50-431a-93ff-3ce3950d1668",
   "metadata": {},
   "outputs": [],
   "source": [
    "# Check for nulls and determine the best approach for dealing with them\n"
   ]
  },
  {
   "cell_type": "code",
   "execution_count": null,
   "id": "9b475f58-df81-4d29-8daf-486d62bceae5",
   "metadata": {},
   "outputs": [],
   "source": [
    "# Fill some of the columns with 0 where it makes sense\n",
    "\n"
   ]
  },
  {
   "cell_type": "code",
   "execution_count": null,
   "id": "5cad43d6-8d29-450e-8a24-c9e7524b3e99",
   "metadata": {},
   "outputs": [],
   "source": [
    "# Verify changes to nulls and prepare to drop na\n"
   ]
  },
  {
   "cell_type": "code",
   "execution_count": null,
   "id": "c579c438-11e1-417f-b7e4-16c4fd1aa3c0",
   "metadata": {},
   "outputs": [],
   "source": [
    "# Drop remaining nulls wher it would make sense\n",
    "\n"
   ]
  },
  {
   "cell_type": "code",
   "execution_count": null,
   "id": "f8fb04d0-79d1-4ea1-b995-be79190644b7",
   "metadata": {},
   "outputs": [],
   "source": [
    "# Verify changes to nulls and no nulls should remain\n"
   ]
  },
  {
   "cell_type": "markdown",
   "id": "94b0396d-1b61-492f-abe8-ed6ad3482f4d",
   "metadata": {},
   "source": [
    "## Plotting to help Clean the Data"
   ]
  },
  {
   "cell_type": "code",
   "execution_count": null,
   "id": "f33bc272-be71-43dc-9cfb-cde1edcb2fee",
   "metadata": {},
   "outputs": [],
   "source": [
    "# Plot a histogram of Total enrolled students and check for outliers\n"
   ]
  },
  {
   "cell_type": "code",
   "execution_count": null,
   "id": "ba8b0e8f-f81f-483e-9fca-0c6d06ccbaf3",
   "metadata": {},
   "outputs": [],
   "source": [
    "# Plot a histogram of Total Teachers and check for outliers\n"
   ]
  },
  {
   "cell_type": "code",
   "execution_count": null,
   "id": "aaf94346-5886-4517-b971-e07ad091bbc1",
   "metadata": {},
   "outputs": [],
   "source": [
    "# Plot a histogram of Student Teacher Ratio and check for outliers\n"
   ]
  },
  {
   "cell_type": "code",
   "execution_count": null,
   "id": "01b5a36c-7d94-48d0-8ac6-d2fd12e88d59",
   "metadata": {},
   "outputs": [],
   "source": [
    "# Re-Plot a histogram of Total enrolled students after removing 0s and outliers above the 99th quantile\n",
    "\n",
    "\n"
   ]
  },
  {
   "cell_type": "code",
   "execution_count": null,
   "id": "f2f104a9-1c7c-44bd-b3ca-694972a5838c",
   "metadata": {},
   "outputs": [],
   "source": [
    "# Re-Plot a histogram of Total Teachers after removing 0s and outliers above the 99th quantile\n",
    "\n",
    "\n"
   ]
  },
  {
   "cell_type": "code",
   "execution_count": null,
   "id": "5099b089-dd01-4015-a089-d7c8c5fe0a50",
   "metadata": {},
   "outputs": [],
   "source": [
    "# Re-Plot a histogram of Student Teacher Ratio after removing 0s and outliers above the 99th quantile\n",
    "\n",
    "\n"
   ]
  },
  {
   "cell_type": "markdown",
   "id": "be8a5465-1729-4224-8d67-a3bb7d2e36db",
   "metadata": {},
   "source": [
    "## Correlation Plot to Understand Data Relationships"
   ]
  },
  {
   "cell_type": "code",
   "execution_count": null,
   "id": "eba2a690-97c0-4cbb-8eee-e3f59ea2d7b7",
   "metadata": {},
   "outputs": [],
   "source": [
    "# Use seaborn to generate a correlation heatmap for the columns in the dataframe\n",
    "\n",
    "\n",
    "\n"
   ]
  },
  {
   "cell_type": "markdown",
   "id": "2c7d5297-4123-4304-828f-fab95f809b9e",
   "metadata": {},
   "source": [
    "## Geographic Plots"
   ]
  },
  {
   "cell_type": "code",
   "execution_count": null,
   "id": "ea105476-cb58-4e1b-b6e4-48f0dce896ae",
   "metadata": {},
   "outputs": [],
   "source": [
    "# Plot only schools from the 48 contiguous US states or the 50 US states (drop territories and PR)\n",
    "\n",
    "\n",
    "\n"
   ]
  },
  {
   "cell_type": "code",
   "execution_count": null,
   "id": "4d40e365-a229-4cb4-bff9-e1047a2ed42e",
   "metadata": {},
   "outputs": [],
   "source": [
    "# Plot only schools in your state\n",
    "\n",
    "\n",
    "\n"
   ]
  },
  {
   "cell_type": "markdown",
   "id": "6cfe5be1-7121-47e0-8aa8-7f08a7673ee5",
   "metadata": {},
   "source": [
    "## School Quality Analysis: Student/Teacher Ratios"
   ]
  },
  {
   "cell_type": "code",
   "execution_count": null,
   "id": "83b36d34-4510-486c-baeb-388a77761482",
   "metadata": {},
   "outputs": [],
   "source": [
    "# Use the dataframe that has filtered out the outliers in Student Teacher Ratio and group by state and get the average\n",
    "# Show the highest 5 Student/Teacher ratios and lowest 5 Student/Teacher ratios as well as the average for your state\n",
    "\n"
   ]
  },
  {
   "cell_type": "code",
   "execution_count": null,
   "id": "4506185c-6937-4f27-a89e-3521dcae2075",
   "metadata": {},
   "outputs": [],
   "source": [
    "# What is the mean of the Student/Teacher Ratio\n"
   ]
  },
  {
   "cell_type": "code",
   "execution_count": null,
   "id": "5b45a37e-99d6-45ab-bf2f-6aa088feb2a9",
   "metadata": {},
   "outputs": [],
   "source": [
    "# What is the standard deviation of the Student/Teacher Ratio\n"
   ]
  },
  {
   "cell_type": "code",
   "execution_count": null,
   "id": "ce2f701d-fbce-4634-a279-50812760740e",
   "metadata": {},
   "outputs": [],
   "source": [
    "# Plot the states ratios in descending order\n"
   ]
  },
  {
   "cell_type": "code",
   "execution_count": null,
   "id": "9c6cf9f8-ca2d-46c6-8ac6-38b934569d07",
   "metadata": {},
   "outputs": [],
   "source": [
    "# Plot a boxplot of the Student/Teacher Ratios\n"
   ]
  },
  {
   "cell_type": "code",
   "execution_count": null,
   "id": "7995326b-69ba-4e77-9a72-85ea5af21e47",
   "metadata": {},
   "outputs": [],
   "source": [
    "# List or Plot the Highest 5 states\n",
    "\n"
   ]
  },
  {
   "cell_type": "code",
   "execution_count": null,
   "id": "c713481a-8309-4af8-8b99-5210277ecfdf",
   "metadata": {},
   "outputs": [],
   "source": [
    "# List or plot the lowest 5\n",
    "\n"
   ]
  },
  {
   "cell_type": "code",
   "execution_count": null,
   "id": "506836d8-96e1-46fe-890a-53dcf9f4fa27",
   "metadata": {},
   "outputs": [],
   "source": [
    "# Print your state's Student Teacher Ratios\n",
    "\n"
   ]
  },
  {
   "cell_type": "markdown",
   "id": "c5483b02-4800-4861-be2c-5df701c7c236",
   "metadata": {},
   "source": [
    "## Summarize your findings from any of the analysis or plots above:\n",
    "* Were there any interesting Correlations?\n",
    "* How did your state compare to others?\n",
    "* Would you have made any different decisions in the earlier cleaning stages after becoming more familiar with the data?\n",
    "* What is going on in IL?\n",
    "* What other analysis could be done with this data?"
   ]
  },
  {
   "cell_type": "markdown",
   "id": "1ad4d2bc-989d-4dd9-9925-1cf1d6e737a1",
   "metadata": {},
   "source": [
    "## BONUS: Generate other interesting analysis or plots"
   ]
  },
  {
   "cell_type": "code",
   "execution_count": null,
   "id": "630d6d42-481b-4c57-ad6d-1fec27713850",
   "metadata": {},
   "outputs": [],
   "source": [
    "# Your code below\n"
   ]
  }
 ],
 "metadata": {
  "kernelspec": {
   "display_name": "Python 3 (ipykernel)",
   "language": "python",
   "name": "python3"
  },
  "language_info": {
   "codemirror_mode": {
    "name": "ipython",
    "version": 3
   },
   "file_extension": ".py",
   "mimetype": "text/x-python",
   "name": "python",
   "nbconvert_exporter": "python",
   "pygments_lexer": "ipython3",
   "version": "3.7.13"
  }
 },
 "nbformat": 4,
 "nbformat_minor": 5
}
